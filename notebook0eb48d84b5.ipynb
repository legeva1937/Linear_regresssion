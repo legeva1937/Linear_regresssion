{
 "cells": [
  {
   "cell_type": "code",
   "execution_count": 1,
   "id": "c0b3f386",
   "metadata": {
    "_cell_guid": "b1076dfc-b9ad-4769-8c92-a6c4dae69d19",
    "_uuid": "8f2839f25d086af736a60e9eeb907d3b93b6e0e5",
    "execution": {
     "iopub.execute_input": "2021-10-28T17:10:49.006583Z",
     "iopub.status.busy": "2021-10-28T17:10:49.002182Z",
     "iopub.status.idle": "2021-10-28T17:10:50.052244Z",
     "shell.execute_reply": "2021-10-28T17:10:50.051554Z",
     "shell.execute_reply.started": "2021-10-28T17:09:42.064743Z"
    },
    "papermill": {
     "duration": 1.072681,
     "end_time": "2021-10-28T17:10:50.052448",
     "exception": false,
     "start_time": "2021-10-28T17:10:48.979767",
     "status": "completed"
    },
    "tags": []
   },
   "outputs": [],
   "source": [
    "from sklearn.datasets import make_blobs, make_moons\n",
    "from sklearn.model_selection import train_test_split\n",
    "import numpy as np\n",
    "import pandas as pd\n",
    "import random\n",
    "import matplotlib.pyplot as plt\n",
    "import matplotlib\n",
    "import copy\n",
    "import math"
   ]
  },
  {
   "cell_type": "code",
   "execution_count": 2,
   "id": "34f38589",
   "metadata": {
    "execution": {
     "iopub.execute_input": "2021-10-28T17:10:50.072794Z",
     "iopub.status.busy": "2021-10-28T17:10:50.072108Z",
     "iopub.status.idle": "2021-10-28T17:10:50.077964Z",
     "shell.execute_reply": "2021-10-28T17:10:50.077478Z",
     "shell.execute_reply.started": "2021-10-28T12:38:10.254481Z"
    },
    "papermill": {
     "duration": 0.017681,
     "end_time": "2021-10-28T17:10:50.078174",
     "exception": false,
     "start_time": "2021-10-28T17:10:50.060493",
     "status": "completed"
    },
    "tags": []
   },
   "outputs": [],
   "source": [
    "def generate_synthetic(size, dim=6, noise=0.1):\n",
    "    X = np.random.randn(size, dim)\n",
    "    w = np.random.randn(dim + 1)\n",
    "    noise = noise * np.random.randn(size)\n",
    "    y = X.dot(w[1:]) + w[0] + noise\n",
    "    return X, y"
   ]
  },
  {
   "cell_type": "code",
   "execution_count": 3,
   "id": "0b46495e",
   "metadata": {
    "execution": {
     "iopub.execute_input": "2021-10-28T17:10:50.101310Z",
     "iopub.status.busy": "2021-10-28T17:10:50.100580Z",
     "iopub.status.idle": "2021-10-28T17:10:50.101851Z",
     "shell.execute_reply": "2021-10-28T17:10:50.102459Z",
     "shell.execute_reply.started": "2021-10-28T17:09:43.104117Z"
    },
    "papermill": {
     "duration": 0.016059,
     "end_time": "2021-10-28T17:10:50.102643",
     "exception": false,
     "start_time": "2021-10-28T17:10:50.086584",
     "status": "completed"
    },
    "tags": []
   },
   "outputs": [],
   "source": [
    "def rmse(y_true, y_predicted):\n",
    "    sum = 0\n",
    "    for i in range(y_true.shape[0]):\n",
    "        sum += (y_true[i] - y_predicted[i]) * (y_true[i] - y_predicted[i])\n",
    "    return math.sqrt(sum/y_true.shape[0])"
   ]
  },
  {
   "cell_type": "code",
   "execution_count": 4,
   "id": "0fe014d7",
   "metadata": {
    "execution": {
     "iopub.execute_input": "2021-10-28T17:10:50.124498Z",
     "iopub.status.busy": "2021-10-28T17:10:50.123764Z",
     "iopub.status.idle": "2021-10-28T17:10:50.129465Z",
     "shell.execute_reply": "2021-10-28T17:10:50.129923Z",
     "shell.execute_reply.started": "2021-10-28T17:10:18.465664Z"
    },
    "papermill": {
     "duration": 0.016852,
     "end_time": "2021-10-28T17:10:50.130159",
     "exception": false,
     "start_time": "2021-10-28T17:10:50.113307",
     "status": "completed"
    },
    "tags": []
   },
   "outputs": [],
   "source": [
    "class NormalLR:\n",
    "    def __init__(self, a = 0):\n",
    "        self.a = a\n",
    "        pass\n",
    "    \n",
    "    def fit(self, X, y):\n",
    "        tmp_1 = np.linalg.inv(X.transpose().dot(X) + self.a * np.eye(X.shape[1]))\n",
    "        tmp_2 = X.transpose().dot(y)\n",
    "        self.w = tmp_1.dot(tmp_2)\n",
    "        pass\n",
    "    \n",
    "    def predict(self, X):\n",
    "        return X.dot(self.w)\n",
    "        pass"
   ]
  },
  {
   "cell_type": "code",
   "execution_count": 5,
   "id": "87c771c0",
   "metadata": {
    "execution": {
     "iopub.execute_input": "2021-10-28T17:10:50.149263Z",
     "iopub.status.busy": "2021-10-28T17:10:50.148611Z",
     "iopub.status.idle": "2021-10-28T17:10:50.187147Z",
     "shell.execute_reply": "2021-10-28T17:10:50.187713Z",
     "shell.execute_reply.started": "2021-10-28T17:09:43.126259Z"
    },
    "papermill": {
     "duration": 0.049925,
     "end_time": "2021-10-28T17:10:50.187948",
     "exception": false,
     "start_time": "2021-10-28T17:10:50.138023",
     "status": "completed"
    },
    "tags": []
   },
   "outputs": [
    {
     "name": "stderr",
     "output_type": "stream",
     "text": [
      "/opt/conda/lib/python3.7/site-packages/ipykernel_launcher.py:1: FutureWarning: In a future version of pandas all arguments of DataFrame.drop except for the argument 'labels' will be keyword-only\n",
      "  \"\"\"Entry point for launching an IPython kernel.\n"
     ]
    }
   ],
   "source": [
    "X, y = pd.read_csv(\"../input/homework-linear-regression/x_boston_train.csv\").drop('Id', 1),pd.read_csv(\"../input/homework-linear-regression/y_boston_train.csv\").Expected\n"
   ]
  },
  {
   "cell_type": "code",
   "execution_count": null,
   "id": "ec83dc5c",
   "metadata": {
    "papermill": {
     "duration": 0.007442,
     "end_time": "2021-10-28T17:10:50.203643",
     "exception": false,
     "start_time": "2021-10-28T17:10:50.196201",
     "status": "completed"
    },
    "tags": []
   },
   "outputs": [],
   "source": []
  },
  {
   "cell_type": "code",
   "execution_count": 6,
   "id": "0b85aafc",
   "metadata": {
    "execution": {
     "iopub.execute_input": "2021-10-28T17:10:50.222900Z",
     "iopub.status.busy": "2021-10-28T17:10:50.222314Z",
     "iopub.status.idle": "2021-10-28T17:10:50.244804Z",
     "shell.execute_reply": "2021-10-28T17:10:50.245826Z",
     "shell.execute_reply.started": "2021-10-28T17:10:20.245114Z"
    },
    "papermill": {
     "duration": 0.034729,
     "end_time": "2021-10-28T17:10:50.246183",
     "exception": false,
     "start_time": "2021-10-28T17:10:50.211454",
     "status": "completed"
    },
    "tags": []
   },
   "outputs": [
    {
     "data": {
      "text/plain": [
       "4873.584299462809"
      ]
     },
     "execution_count": 6,
     "metadata": {},
     "output_type": "execute_result"
    }
   ],
   "source": [
    "X_n, y_n = X.values, y.values\n",
    "X_train, X_test, y_train, y_test = train_test_split(X_n, y_n, train_size=0.8, shuffle=False)\n",
    "Lin = NormalLR(a = 0)\n",
    "Lin.fit(X_train, y_train)\n",
    "y_pred = Lin.predict(X_test)\n",
    "rmse(y_test, y_pred)"
   ]
  },
  {
   "cell_type": "code",
   "execution_count": 7,
   "id": "064f6066",
   "metadata": {
    "execution": {
     "iopub.execute_input": "2021-10-28T17:10:50.288949Z",
     "iopub.status.busy": "2021-10-28T17:10:50.287761Z",
     "iopub.status.idle": "2021-10-28T17:10:50.303075Z",
     "shell.execute_reply": "2021-10-28T17:10:50.304733Z",
     "shell.execute_reply.started": "2021-10-28T17:10:22.500516Z"
    },
    "papermill": {
     "duration": 0.04242,
     "end_time": "2021-10-28T17:10:50.305086",
     "exception": false,
     "start_time": "2021-10-28T17:10:50.262666",
     "status": "completed"
    },
    "tags": []
   },
   "outputs": [],
   "source": [
    "test = pd.read_csv(\"../input/homework-linear-regression/x_boston_test.csv\")\n",
    "regr = NormalLR()\n",
    "regr.fit(X.values, y.values)"
   ]
  },
  {
   "cell_type": "code",
   "execution_count": null,
   "id": "ea9f909e",
   "metadata": {
    "papermill": {
     "duration": 0.015782,
     "end_time": "2021-10-28T17:10:50.339490",
     "exception": false,
     "start_time": "2021-10-28T17:10:50.323708",
     "status": "completed"
    },
    "tags": []
   },
   "outputs": [],
   "source": []
  },
  {
   "cell_type": "code",
   "execution_count": 8,
   "id": "6092d13e",
   "metadata": {
    "execution": {
     "iopub.execute_input": "2021-10-28T17:10:50.387419Z",
     "iopub.status.busy": "2021-10-28T17:10:50.386342Z",
     "iopub.status.idle": "2021-10-28T17:10:50.402966Z",
     "shell.execute_reply": "2021-10-28T17:10:50.404745Z",
     "shell.execute_reply.started": "2021-10-28T17:10:24.608616Z"
    },
    "papermill": {
     "duration": 0.048737,
     "end_time": "2021-10-28T17:10:50.405100",
     "exception": false,
     "start_time": "2021-10-28T17:10:50.356363",
     "status": "completed"
    },
    "tags": []
   },
   "outputs": [
    {
     "name": "stderr",
     "output_type": "stream",
     "text": [
      "/opt/conda/lib/python3.7/site-packages/ipykernel_launcher.py:3: FutureWarning: In a future version of pandas all arguments of DataFrame.drop except for the argument 'labels' will be keyword-only\n",
      "  This is separate from the ipykernel package so we can avoid doing imports until\n"
     ]
    }
   ],
   "source": [
    "submission = pd.DataFrame(columns = [\"Id\", \"Expected\"])\n",
    "submission[\"Id\"] = test[\"Id\"]\n",
    "submission[\"Expected\"] = regr.predict(test.drop('Id', 1).values)\n",
    "submission.to_csv('submission.csv', index=False)"
   ]
  },
  {
   "cell_type": "code",
   "execution_count": 9,
   "id": "ad455916",
   "metadata": {
    "execution": {
     "iopub.execute_input": "2021-10-28T17:10:50.436802Z",
     "iopub.status.busy": "2021-10-28T17:10:50.435833Z",
     "iopub.status.idle": "2021-10-28T17:10:50.441709Z",
     "shell.execute_reply": "2021-10-28T17:10:50.442289Z",
     "shell.execute_reply.started": "2021-10-28T17:10:26.878692Z"
    },
    "papermill": {
     "duration": 0.021205,
     "end_time": "2021-10-28T17:10:50.442476",
     "exception": false,
     "start_time": "2021-10-28T17:10:50.421271",
     "status": "completed"
    },
    "tags": []
   },
   "outputs": [
    {
     "data": {
      "text/plain": [
       "0      21393.779360\n",
       "1      16554.925667\n",
       "2      19121.586928\n",
       "3      31814.832817\n",
       "4      13267.419849\n",
       "           ...     \n",
       "97     20343.604673\n",
       "98     16817.840997\n",
       "99     17794.120826\n",
       "100    12311.981881\n",
       "101    23990.652008\n",
       "Name: Expected, Length: 102, dtype: float64"
      ]
     },
     "execution_count": 9,
     "metadata": {},
     "output_type": "execute_result"
    }
   ],
   "source": [
    "submission.Expected"
   ]
  }
 ],
 "metadata": {
  "kernelspec": {
   "display_name": "Python 3",
   "language": "python",
   "name": "python3"
  },
  "language_info": {
   "codemirror_mode": {
    "name": "ipython",
    "version": 3
   },
   "file_extension": ".py",
   "mimetype": "text/x-python",
   "name": "python",
   "nbconvert_exporter": "python",
   "pygments_lexer": "ipython3",
   "version": "3.7.10"
  },
  "papermill": {
   "default_parameters": {},
   "duration": 11.324611,
   "end_time": "2021-10-28T17:10:51.364050",
   "environment_variables": {},
   "exception": null,
   "input_path": "__notebook__.ipynb",
   "output_path": "__notebook__.ipynb",
   "parameters": {},
   "start_time": "2021-10-28T17:10:40.039439",
   "version": "2.3.3"
  }
 },
 "nbformat": 4,
 "nbformat_minor": 5
}
